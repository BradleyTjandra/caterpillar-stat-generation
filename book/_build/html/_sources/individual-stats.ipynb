{
 "cells": [
  {
   "cell_type": "markdown",
   "source": [
    "# Individual Stats\r\n",
    "\r\n",
    "This section compares the distribution of individual stats between 4d6-drop-lowest, Goblin's caterpillar method, and the Improved Goblin method. I find that using each method, the distribution of possible individual stats is the same under each method. This both corroborates what Goblin found, and verifies that the Improved Goblin method continues to be consistent with 4d6-drop-lowest.\r\n",
    "\r\n",
    "## Simulations\r\n",
    "\r\n",
    "To perform this, I ran a simulation of 10,000 characters, each with 6 stats each, producing 60,000 stats. The distribution of these results is visible below."
   ],
   "metadata": {}
  },
  {
   "cell_type": "code",
   "execution_count": 7,
   "source": [
    "# Set up link to python code\r\n",
    "import sys\r\n",
    "sys.path.append(\"../src/\")"
   ],
   "outputs": [],
   "metadata": {}
  },
  {
   "cell_type": "code",
   "execution_count": 8,
   "source": [
    "# Set up report tables\r\n",
    "import ReportTables\r\n",
    "from importlib import reload\r\n",
    "reload(ReportTables)\r\n",
    "report_tables = ReportTables.ReportTables()"
   ],
   "outputs": [],
   "metadata": {}
  },
  {
   "cell_type": "code",
   "execution_count": null,
   "source": [
    "report_tables.show_stats_distribution()"
   ],
   "outputs": [],
   "metadata": {}
  },
  {
   "cell_type": "markdown",
   "source": [
    "\r\n",
    "\r\n",
    "The average ability score is 12. The following chart shows the distribution of stats generated from caterpillar and 4d6-drop-lowest, run over 10,000 characters (and hence producing 60,000 stats). \r\n",
    "\r\n",
    "Overall means that the probability of a character having a certain stat is roughly the same whether you use caterpillar or 4d6-drop-lowest - when looking at a single stat from either method. This is good, as in general we don't want to be using a stat generation method if it produces much higher or lower stats."
   ],
   "metadata": {}
  }
 ],
 "metadata": {
  "orig_nbformat": 4,
  "language_info": {
   "name": "python",
   "version": "3.7.6",
   "mimetype": "text/x-python",
   "codemirror_mode": {
    "name": "ipython",
    "version": 3
   },
   "pygments_lexer": "ipython3",
   "nbconvert_exporter": "python",
   "file_extension": ".py"
  },
  "kernelspec": {
   "name": "python3",
   "display_name": "Python 3.7.6 64-bit ('base': conda)"
  },
  "interpreter": {
   "hash": "56f56f2629c715d4b9dbf6c92aa553d02c88ff052cf8058288aa8b420157b229"
  }
 },
 "nbformat": 4,
 "nbformat_minor": 2
}