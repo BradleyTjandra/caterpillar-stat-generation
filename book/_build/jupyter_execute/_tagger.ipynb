{
 "cells": [
  {
   "cell_type": "code",
   "execution_count": 1,
   "metadata": {
    "tags": [
     "remove-cell",
     "remove-input",
     "hide-input"
    ]
   },
   "outputs": [],
   "source": [
    "import nbformat as nbf\r\n",
    "from glob import glob\r\n",
    "\r\n",
    "# Collect a list of all notebooks in the content folder\r\n",
    "notebooks = glob(\"*.ipynb\", recursive=True)\r\n",
    "\r\n",
    "# Text to look for in adding tags\r\n",
    "text_search_dict = {\r\n",
    "    \"# HIDDEN\": \"remove-cell\",  # Remove the whole cell\r\n",
    "    \"# NO CODE\": \"remove-input\",  # Remove only the input\r\n",
    "    \"# HIDE CODE\": \"hide-input\"  # Hide the input w/ a button to show\r\n",
    "}\r\n",
    "\r\n",
    "# Search through each notebook and look for the text, add a tag if necessary\r\n",
    "for ipath in notebooks:\r\n",
    "    ntbk = nbf.read(ipath, nbf.NO_CONVERT)\r\n",
    "\r\n",
    "    for cell in ntbk.cells:\r\n",
    "        cell_tags = cell.get('metadata', {}).get('tags', [])\r\n",
    "        for key, val in text_search_dict.items():\r\n",
    "            if key in cell['source']:\r\n",
    "                if val not in cell_tags:\r\n",
    "                    cell_tags.append(val)\r\n",
    "        if len(cell_tags) > 0:\r\n",
    "            cell['metadata']['tags'] = cell_tags\r\n",
    "\r\n",
    "    nbf.write(ntbk, ipath)"
   ]
  }
 ],
 "metadata": {
  "language_info": {
   "codemirror_mode": {
    "name": "ipython",
    "version": 3
   },
   "file_extension": ".py",
   "mimetype": "text/x-python",
   "name": "python",
   "nbconvert_exporter": "python",
   "pygments_lexer": "ipython3",
   "version": "3.9.0"
  }
 },
 "nbformat": 4,
 "nbformat_minor": 2
}