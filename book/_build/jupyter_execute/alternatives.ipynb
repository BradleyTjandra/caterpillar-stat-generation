{
 "cells": [
  {
   "cell_type": "markdown",
   "metadata": {},
   "source": [
    "Alternative Methods\r\n",
    "============================\r\n",
    "\r\n",
    "The Improved Goblin method allows us to generate random stats, while reducing the chances that characters are be incredibly powerful or weak. However, there are even more potential ways we could generate stats. This seciton considers these, and sees how effectively they a) allow for variability in stats and b) reduce variability in overall character strength.\r\n",
    "\r\n",
    "## Desiderata with Alternative Stat Methods \r\n",
    "\r\n",
    "Here are some desiderata we have for ways to generate stats:\r\n",
    "\r\n",
    "1. It allows players to have different stats. \r\n",
    "2. It makes stats somewhat random, so that players do not feel compelled to min-max to avoid being weaker than other players. \r\n",
    "3. It reduces the chances that players will have much better or worse stats than other players.\r\n",
    "4. It still allow players to have incredibly bad or incredibly good stats - but then the other stats will be good or bad to partially offset this.\r\n",
    "\r\n",
    "These desiderata may not be important for you, in which case the options will be somewhat different."
   ]
  }
 ],
 "metadata": {
  "language_info": {
   "codemirror_mode": {
    "name": "ipython",
    "version": 3
   },
   "file_extension": ".py",
   "mimetype": "text/x-python",
   "name": "python",
   "nbconvert_exporter": "python",
   "pygments_lexer": "ipython3",
   "version": "3.9.0"
  }
 },
 "nbformat": 4,
 "nbformat_minor": 2
}