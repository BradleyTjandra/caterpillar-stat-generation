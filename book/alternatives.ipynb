{
 "cells": [
  {
   "cell_type": "markdown",
   "source": [
    "Alternative Methods\r\n",
    "============================\r\n",
    "\r\n",
    "The Improved Goblin method allows us to generate random stats, while reducing the chances that characters are be incredibly powerful or weak. However, there are even more potential ways we could generate stats. This seciton considers these, and sees how effectively they a) allow for variability in stats and b) reduce variability in overall character strength.\r\n",
    "\r\n",
    "## Desiderata with Alternative Stat Methods \r\n",
    "\r\n",
    "Here are some desiderata we have for ways to generate stats:\r\n",
    "\r\n",
    "1. It allows players to have different stats. \r\n",
    "2. It makes stats somewhat random, so that players do not feel compelled to min-max to avoid being weaker than other players. \r\n",
    "3. It reduces the chances that players will have much better or worse stats than other players.\r\n",
    "4. It still allow players to have incredibly bad or incredibly good stats - but then the other stats will be good or bad to partially offset this.\r\n",
    "\r\n",
    "I acknowledge these desiderata are somewhat subjective, but for _me_ they make a good game.\r\n",
    "\r\n",
    "## Possible alternative methods\r\n",
    "\r\n",
    "A couple of methods have been raised as part of this discussion:\r\n",
    "\r\n",
    "1. Using the 13th Age's approach\r\n",
    "2. Instead of using the bottom faces, rolling a new set of 3d6\r\n",
    "\r\n",
    "For each of these, I will show the resulting distribution "
   ],
   "metadata": {}
  }
 ],
 "metadata": {
  "language_info": {
   "name": "python"
  }
 },
 "nbformat": 4,
 "nbformat_minor": 2
}