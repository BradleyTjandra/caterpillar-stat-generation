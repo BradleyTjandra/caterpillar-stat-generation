{
 "cells": [
  {
   "cell_type": "markdown",
   "source": [
    "# Stat Arrays\r\n",
    "\r\n",
    "In the previous section we saw that the distribution of individual stats is very similar under any of the three methods. This begs the question, why bother with the more complex-to-follow caterpillar methods? \r\n",
    "\r\n",
    "The caterpillar methods are supposed to reduce the chance of players have very high or very low stats. This can be undesireable as it makes some characters much more powerful than others, and can make it for hard for a DM to balance encounters. This section shows that Goblin's caterpillar method does _not_ achieve this goal. However, the Improved Goblin method does.\r\n",
    "\r\n",
    "## What is too much volatility?\r\n",
    "\r\n",
    "People have different standards about what is an \"acceptable\" amount of volatility between characters. Some parties are happy to have one player with many scores of 15 or higher, and another player with only one score above 15 and everything other stat below 12. For others, this difference would seem too large and would make the game less fun.\r\n",
    "\r\n",
    "There's no right answer here. In my opinion, the volatility of 4d6-drop-lowest is a bit too large, and I would prefer something closer to the Improved Goblin method. However, it is possible to reduce the volatility of character stat arrays even further, for example 13th Age's [Base 13 Random method](https://www.13thagesrd.com/character-rules/#Base_13_Random_Stat_Generation_DATP).\r\n",
    "\r\n",
    "## How Can We Compare Stat Arrays?\r\n",
    "\r\n",
    "When comparing stat arrays, it is helpful to reduce the six ability scores to a single number representing how good the roll is. One simple way to do this would be to just add up the six scores. \r\n",
    "\r\n",
    "However, I consider having an ability score of 18 rather than 16 to be much better than having an ability score of 12 rather than 10. The former will probably increase your primary ability score and thus be used much more, while the latter many only have a small impact as it is probably not your character's primary focus.\r\n",
    "\r\n",
    "This is also reflected in the point buy method, which has a supralinear relationship for scores of 14+. Given this seems like a popular method of stat array generation, I have decided to adopt the costs for each ability score from the stat array. Because the point buy table only covers scores between 8 and 15, I have extended the table per the following schedule.\r\n",
    "```{glue:} point_buy_fig\r\n",
    "```\r\n",
    " \r\n",
    "## Simulations\r\n",
    "\r\n",
    "We can now convert our stat arrays to a single \"point buy budget\" by calculating how much of each of the six ability scores would cost. The sum of these six costs is the total budget required for the character, and a higher budget indicates a more powerful character. The distribution of results is shown below.\r\n",
    "```{glue:} point_buy_dist_fig\r\n",
    "```\r\n",
    "\r\n",
    "Both 4d6-drop-lowest and the original caterpillar method have a similar spread of characters. however, the Improved Caterpillar method has a much narrower range of possible budgets, indicating that it is much less likely to have a character which is much stronger or weaker than other characters in the same party.\r\n",
    "\r\n",
    "## Summary Statistics\r\n",
    "\r\n",
    "We can again look at the summary statistics of the three approaches, as shown in the table below.\r\n",
    "```{glue:} \r\n",
    "```\r\n",
    "\r\n",
    "We see that the average cost is between 29 to 30 "
   ],
   "metadata": {}
  }
 ],
 "metadata": {
  "interpreter": {
   "hash": "ec21520ced5028e56aa0637d29c1806089488b3a8755801a60aefc6816d2bd06"
  },
  "kernelspec": {
   "display_name": "Python 3.9.0 64-bit ('test_update_py': conda)",
   "name": "python3"
  },
  "language_info": {
   "codemirror_mode": {
    "name": "ipython",
    "version": 3
   },
   "file_extension": ".py",
   "mimetype": "text/x-python",
   "name": "python",
   "nbconvert_exporter": "python",
   "pygments_lexer": "ipython3",
   "version": "3.9.0"
  }
 },
 "nbformat": 4,
 "nbformat_minor": 2
}