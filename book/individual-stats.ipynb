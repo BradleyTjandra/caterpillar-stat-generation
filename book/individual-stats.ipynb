{
 "cells": [
  {
   "cell_type": "markdown",
   "metadata": {},
   "source": [
    "# Individual Stats\r\n",
    "This section compares the distribution of individual stats between 4d6-drop-lowest, Goblin's caterpillar method, and the Improved Caterpillar method. I find that using each method, the distribution of possible individual stats is the same under each method. This both corroborates what Goblin found, and verifies that the Improved Caterpillar method continues to be consistent with 4d6-drop-lowest (looking at individual stats).\r\n",
    "\r\n",
    "## Simulations\r\n",
    "To perform this, I ran a simulation of 100,000 characters, each with 6 stats each, producing 600,000 stats. The distribution of these results is visible below.\r\n",
    "\r\n",
    "```{glue:} stats_distribution_fig\r\n",
    "```\r\n",
    "\r\n",
    "The two caterpillar methods (yellow and green lines, the yellow line is underneath the green line) have a very similar shape. Meanwhile, 4d6-drop-lowest (blue) has a smoother curve than the caterpillar methods, and has a slightly larger range of scores. However, overall the three distributions appear fairly similar.\r\n",
    "\r\n",
    "## Summary Statistics\r\n",
    "This similarity can also be seen by looking at some summary statistics of the three methods.\r\n",
    "\r\n",
    "```{glue:} summary_stats_df\r\n",
    "```\r\n",
    "\r\n",
    "The three methods have very similar means and standard deviations (std). Also for all methods, 25% of stats are 10 or lower, and 25% are 14 or higher. This reinforces the view that the distributions are very similar.\r\n",
    "\r\n",
    "## Conclusion\r\n",
    "This section demonstrates that the three methods of stat generation have a similar distribution when looking at individual stats. \r\n",
    "\r\n",
    "This begs the question, why bother with the more complex-to-follow caterpillar methods? The next section considers how strong characters are, which does vary between stat generation methods."
   ]
  }
 ],
 "metadata": {
  "celltoolbar": "Tags",
  "interpreter": {
   "hash": "ec21520ced5028e56aa0637d29c1806089488b3a8755801a60aefc6816d2bd06"
  },
  "kernelspec": {
   "display_name": "Python 3.9.0 64-bit ('test_update_py': conda)",
   "name": "python3"
  },
  "language_info": {
   "codemirror_mode": {
    "name": "ipython",
    "version": 3
   },
   "file_extension": ".py",
   "mimetype": "text/x-python",
   "name": "python",
   "nbconvert_exporter": "python",
   "pygments_lexer": "ipython3",
   "version": "3.9.0"
  }
 },
 "nbformat": 4,
 "nbformat_minor": 2
}
